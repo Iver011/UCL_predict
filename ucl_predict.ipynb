{
 "cells": [
  {
   "cell_type": "code",
   "execution_count": 349,
   "metadata": {},
   "outputs": [],
   "source": [
    "import pandas as pd\n",
    "from scipy.stats import poisson"
   ]
  },
  {
   "cell_type": "code",
   "execution_count": 350,
   "metadata": {},
   "outputs": [],
   "source": [
    "df_matches=pd.read_csv('data/clean_matches.csv')\n",
    "df_result=pd.read_csv('data/clean_result.csv')"
   ]
  },
  {
   "cell_type": "markdown",
   "metadata": {},
   "source": [
    "##### 1. CALCULAR STRENGTH TEAM"
   ]
  },
  {
   "cell_type": "code",
   "execution_count": 351,
   "metadata": {},
   "outputs": [],
   "source": [
    "df_home = df_result[['Home', 'GF', 'GC']]\n",
    "df_away = df_result[['Away', 'GF', 'GC']]   \n"
   ]
  },
  {
   "cell_type": "code",
   "execution_count": 352,
   "metadata": {},
   "outputs": [],
   "source": [
    "df_home=df_home.rename(columns={'Home':'Team'})\n",
    "df_away=df_away.rename(columns={'Away':'Team','GF':'GC','GC':'GF'})"
   ]
  },
  {
   "cell_type": "code",
   "execution_count": 353,
   "metadata": {},
   "outputs": [],
   "source": [
    "df_home_str=df_home.groupby(['Team']).mean()\n",
    "df_away_str=df_away.groupby(['Team']).mean()"
   ]
  },
  {
   "cell_type": "code",
   "execution_count": 354,
   "metadata": {},
   "outputs": [],
   "source": [
    "df_teams=pd.concat([df_home,df_away],ignore_index=True).groupby(['Team']).mean()"
   ]
  },
  {
   "cell_type": "markdown",
   "metadata": {},
   "source": [
    "#### 2. FUNCION DE PREDICCION"
   ]
  },
  {
   "cell_type": "code",
   "execution_count": 355,
   "metadata": {},
   "outputs": [],
   "source": [
    "import random\n",
    "\n",
    "def predict_points(home, away, df_h,df_a):\n",
    "    if home in df_teams.index and away in df_teams.index:\n",
    "        # goals_scored * goals_conceded\n",
    "        lamb_home = df_h.at[home,'GF'] * df_a.at[away,'GC']\n",
    "        lamb_away = df_a.at[away,'GF'] * df_h.at[home,'GC']\n",
    "        \n",
    "        # Introduce un grado de impredecibilidad\n",
    "        uncertainty = random.uniform(0.8, 1.2)  # Rango de impredecibilidad\n",
    "        \n",
    "        prob_home, prob_away, prob_draw = 0, 0, 0\n",
    "        for x in range(0,11): #number of goals home team\n",
    "            for y in range(0, 11): #number of goals away team\n",
    "                p = poisson.pmf(x, lamb_home * uncertainty) * poisson.pmf(y, lamb_away * uncertainty)\n",
    "                if x == y:\n",
    "                    prob_draw += p\n",
    "                elif x > y:\n",
    "                    prob_home += p\n",
    "                else:\n",
    "                    prob_away += p\n",
    "        \n",
    "        points_home = 3 * prob_home + prob_draw\n",
    "        points_away = 3 * prob_away + prob_draw\n",
    "        return (points_home, points_away)\n",
    "    else:\n",
    "        return (0, 0)\n"
   ]
  },
  {
   "cell_type": "markdown",
   "metadata": {},
   "source": [
    "#### 3. PROBANDO LA FUNCION"
   ]
  },
  {
   "cell_type": "code",
   "execution_count": 356,
   "metadata": {},
   "outputs": [
    {
     "name": "stdout",
     "output_type": "stream",
     "text": [
      "(2.8563127663199572, 0.002268898286390571)\n",
      "(0.93466678782915, 1.8405880411658637)\n"
     ]
    }
   ],
   "source": [
    "print(predict_points('Arsenal','Benfica',df_home_str,df_away_str))\n",
    "print(predict_points('Benfica','Arsenal',df_home_str,df_away_str))"
   ]
  },
  {
   "cell_type": "code",
   "execution_count": 357,
   "metadata": {},
   "outputs": [
    {
     "data": {
      "text/plain": [
       "(1.527850791342096, 1.274494353508986)"
      ]
     },
     "execution_count": 357,
     "metadata": {},
     "output_type": "execute_result"
    }
   ],
   "source": [
    "predict_points('Porto','Real Madrid',df_home_str,df_away_str)"
   ]
  },
  {
   "cell_type": "markdown",
   "metadata": {},
   "source": [
    "#### 4. PREDICIENDO LA UCL"
   ]
  },
  {
   "cell_type": "markdown",
   "metadata": {},
   "source": [
    "##### 4.1 CUARTOS DE FINAL"
   ]
  },
  {
   "cell_type": "code",
   "execution_count": 358,
   "metadata": {},
   "outputs": [
    {
     "data": {
      "text/html": [
       "<div>\n",
       "<style scoped>\n",
       "    .dataframe tbody tr th:only-of-type {\n",
       "        vertical-align: middle;\n",
       "    }\n",
       "\n",
       "    .dataframe tbody tr th {\n",
       "        vertical-align: top;\n",
       "    }\n",
       "\n",
       "    .dataframe thead th {\n",
       "        text-align: right;\n",
       "    }\n",
       "</style>\n",
       "<table border=\"1\" class=\"dataframe\">\n",
       "  <thead>\n",
       "    <tr style=\"text-align: right;\">\n",
       "      <th></th>\n",
       "      <th>Home</th>\n",
       "      <th>Away</th>\n",
       "      <th>GF</th>\n",
       "      <th>GC</th>\n",
       "    </tr>\n",
       "  </thead>\n",
       "  <tbody>\n",
       "    <tr>\n",
       "      <th>0</th>\n",
       "      <td>Arsenal</td>\n",
       "      <td>Bayern Munich</td>\n",
       "      <td>NaN</td>\n",
       "      <td>NaN</td>\n",
       "    </tr>\n",
       "    <tr>\n",
       "      <th>1</th>\n",
       "      <td>Bayern Munich</td>\n",
       "      <td>Arsenal</td>\n",
       "      <td>NaN</td>\n",
       "      <td>NaN</td>\n",
       "    </tr>\n",
       "    <tr>\n",
       "      <th>2</th>\n",
       "      <td>Atlético Madrid</td>\n",
       "      <td>Borussia Dortmund</td>\n",
       "      <td>NaN</td>\n",
       "      <td>NaN</td>\n",
       "    </tr>\n",
       "    <tr>\n",
       "      <th>3</th>\n",
       "      <td>Borussia Dortmund</td>\n",
       "      <td>Atlético Madrid</td>\n",
       "      <td>NaN</td>\n",
       "      <td>NaN</td>\n",
       "    </tr>\n",
       "    <tr>\n",
       "      <th>4</th>\n",
       "      <td>Real Madrid</td>\n",
       "      <td>Manchester City</td>\n",
       "      <td>NaN</td>\n",
       "      <td>NaN</td>\n",
       "    </tr>\n",
       "    <tr>\n",
       "      <th>5</th>\n",
       "      <td>Manchester City</td>\n",
       "      <td>Real Madrid</td>\n",
       "      <td>NaN</td>\n",
       "      <td>NaN</td>\n",
       "    </tr>\n",
       "    <tr>\n",
       "      <th>6</th>\n",
       "      <td>Paris Saint-Germain</td>\n",
       "      <td>Barcelona</td>\n",
       "      <td>NaN</td>\n",
       "      <td>NaN</td>\n",
       "    </tr>\n",
       "    <tr>\n",
       "      <th>7</th>\n",
       "      <td>Barcelona</td>\n",
       "      <td>Paris Saint-Germain</td>\n",
       "      <td>NaN</td>\n",
       "      <td>NaN</td>\n",
       "    </tr>\n",
       "    <tr>\n",
       "      <th>8</th>\n",
       "      <td>Winners of quarter-final 2</td>\n",
       "      <td>Winners of quarter-final 4</td>\n",
       "      <td>NaN</td>\n",
       "      <td>NaN</td>\n",
       "    </tr>\n",
       "    <tr>\n",
       "      <th>9</th>\n",
       "      <td>Winners of quarter-final 4</td>\n",
       "      <td>Winners of quarter-final 2</td>\n",
       "      <td>NaN</td>\n",
       "      <td>NaN</td>\n",
       "    </tr>\n",
       "    <tr>\n",
       "      <th>10</th>\n",
       "      <td>Winners of quarter-final 1</td>\n",
       "      <td>Winners of quarter-final 3</td>\n",
       "      <td>NaN</td>\n",
       "      <td>NaN</td>\n",
       "    </tr>\n",
       "    <tr>\n",
       "      <th>11</th>\n",
       "      <td>Winners of quarter-final 3</td>\n",
       "      <td>Winners of quarter-final 1</td>\n",
       "      <td>NaN</td>\n",
       "      <td>NaN</td>\n",
       "    </tr>\n",
       "    <tr>\n",
       "      <th>12</th>\n",
       "      <td>Winners of semi-final 1</td>\n",
       "      <td>Winners of semi-final 2</td>\n",
       "      <td>NaN</td>\n",
       "      <td>NaN</td>\n",
       "    </tr>\n",
       "  </tbody>\n",
       "</table>\n",
       "</div>"
      ],
      "text/plain": [
       "                          Home                        Away  GF  GC\n",
       "0                      Arsenal               Bayern Munich NaN NaN\n",
       "1                Bayern Munich                     Arsenal NaN NaN\n",
       "2              Atlético Madrid           Borussia Dortmund NaN NaN\n",
       "3            Borussia Dortmund             Atlético Madrid NaN NaN\n",
       "4                  Real Madrid             Manchester City NaN NaN\n",
       "5              Manchester City                 Real Madrid NaN NaN\n",
       "6          Paris Saint-Germain                   Barcelona NaN NaN\n",
       "7                    Barcelona         Paris Saint-Germain NaN NaN\n",
       "8   Winners of quarter-final 2  Winners of quarter-final 4 NaN NaN\n",
       "9   Winners of quarter-final 4  Winners of quarter-final 2 NaN NaN\n",
       "10  Winners of quarter-final 1  Winners of quarter-final 3 NaN NaN\n",
       "11  Winners of quarter-final 3  Winners of quarter-final 1 NaN NaN\n",
       "12     Winners of semi-final 1     Winners of semi-final 2 NaN NaN"
      ]
     },
     "execution_count": 358,
     "metadata": {},
     "output_type": "execute_result"
    }
   ],
   "source": [
    "df_matches"
   ]
  },
  {
   "cell_type": "code",
   "execution_count": 359,
   "metadata": {},
   "outputs": [],
   "source": [
    "df_matches=df_matches.drop(['GF','GC'],axis=1)"
   ]
  },
  {
   "cell_type": "code",
   "execution_count": 360,
   "metadata": {},
   "outputs": [],
   "source": [
    "df_quarters=df_matches[:8].copy()\n",
    "df_semis=df_matches[8:12].copy()\n",
    "df_final=df_matches[12:].copy()"
   ]
  },
  {
   "cell_type": "code",
   "execution_count": 361,
   "metadata": {},
   "outputs": [],
   "source": [
    "\n",
    "def get_winner(df_fixture_updated):\n",
    "    for index, row in df_fixture_updated.iterrows():\n",
    "        home, away = row['Home'], row['Away']\n",
    "        points_home, points_away = predict_points(home, away,df_home_str,df_away_str)\n",
    "        if points_home > points_away:\n",
    "            winner = home\n",
    "        else:\n",
    "            winner = away\n",
    "        \n",
    "        df_fixture_updated.loc[index, 'winner'] = winner\n",
    "        df_fixture_updated.loc[index, 'points_home'] = points_home\n",
    "        df_fixture_updated.loc[index, 'points_away'] = points_away\n",
    "\n",
    "        \n",
    "\n",
    "    return df_fixture_updated"
   ]
  },
  {
   "cell_type": "code",
   "execution_count": 362,
   "metadata": {},
   "outputs": [
    {
     "data": {
      "text/html": [
       "<div>\n",
       "<style scoped>\n",
       "    .dataframe tbody tr th:only-of-type {\n",
       "        vertical-align: middle;\n",
       "    }\n",
       "\n",
       "    .dataframe tbody tr th {\n",
       "        vertical-align: top;\n",
       "    }\n",
       "\n",
       "    .dataframe thead th {\n",
       "        text-align: right;\n",
       "    }\n",
       "</style>\n",
       "<table border=\"1\" class=\"dataframe\">\n",
       "  <thead>\n",
       "    <tr style=\"text-align: right;\">\n",
       "      <th></th>\n",
       "      <th>Home</th>\n",
       "      <th>Away</th>\n",
       "      <th>winner</th>\n",
       "      <th>points_home</th>\n",
       "      <th>points_away</th>\n",
       "    </tr>\n",
       "  </thead>\n",
       "  <tbody>\n",
       "    <tr>\n",
       "      <th>0</th>\n",
       "      <td>Arsenal</td>\n",
       "      <td>Bayern Munich</td>\n",
       "      <td>Arsenal</td>\n",
       "      <td>2.800368</td>\n",
       "      <td>0.099771</td>\n",
       "    </tr>\n",
       "    <tr>\n",
       "      <th>1</th>\n",
       "      <td>Bayern Munich</td>\n",
       "      <td>Arsenal</td>\n",
       "      <td>Bayern Munich</td>\n",
       "      <td>2.390918</td>\n",
       "      <td>0.464161</td>\n",
       "    </tr>\n",
       "    <tr>\n",
       "      <th>2</th>\n",
       "      <td>Atlético Madrid</td>\n",
       "      <td>Borussia Dortmund</td>\n",
       "      <td>Atlético Madrid</td>\n",
       "      <td>2.466582</td>\n",
       "      <td>0.391686</td>\n",
       "    </tr>\n",
       "    <tr>\n",
       "      <th>3</th>\n",
       "      <td>Borussia Dortmund</td>\n",
       "      <td>Atlético Madrid</td>\n",
       "      <td>Borussia Dortmund</td>\n",
       "      <td>2.271040</td>\n",
       "      <td>0.491874</td>\n",
       "    </tr>\n",
       "    <tr>\n",
       "      <th>4</th>\n",
       "      <td>Real Madrid</td>\n",
       "      <td>Manchester City</td>\n",
       "      <td>Real Madrid</td>\n",
       "      <td>1.703619</td>\n",
       "      <td>1.120305</td>\n",
       "    </tr>\n",
       "    <tr>\n",
       "      <th>5</th>\n",
       "      <td>Manchester City</td>\n",
       "      <td>Real Madrid</td>\n",
       "      <td>Manchester City</td>\n",
       "      <td>2.157545</td>\n",
       "      <td>0.699714</td>\n",
       "    </tr>\n",
       "    <tr>\n",
       "      <th>6</th>\n",
       "      <td>Paris Saint-Germain</td>\n",
       "      <td>Barcelona</td>\n",
       "      <td>Paris Saint-Germain</td>\n",
       "      <td>2.689976</td>\n",
       "      <td>0.192530</td>\n",
       "    </tr>\n",
       "    <tr>\n",
       "      <th>7</th>\n",
       "      <td>Barcelona</td>\n",
       "      <td>Paris Saint-Germain</td>\n",
       "      <td>Barcelona</td>\n",
       "      <td>2.670891</td>\n",
       "      <td>0.034421</td>\n",
       "    </tr>\n",
       "  </tbody>\n",
       "</table>\n",
       "</div>"
      ],
      "text/plain": [
       "                  Home                 Away               winner  points_home  \\\n",
       "0              Arsenal        Bayern Munich              Arsenal     2.800368   \n",
       "1        Bayern Munich              Arsenal        Bayern Munich     2.390918   \n",
       "2      Atlético Madrid    Borussia Dortmund      Atlético Madrid     2.466582   \n",
       "3    Borussia Dortmund      Atlético Madrid    Borussia Dortmund     2.271040   \n",
       "4          Real Madrid      Manchester City          Real Madrid     1.703619   \n",
       "5      Manchester City          Real Madrid      Manchester City     2.157545   \n",
       "6  Paris Saint-Germain            Barcelona  Paris Saint-Germain     2.689976   \n",
       "7            Barcelona  Paris Saint-Germain            Barcelona     2.670891   \n",
       "\n",
       "   points_away  \n",
       "0     0.099771  \n",
       "1     0.464161  \n",
       "2     0.391686  \n",
       "3     0.491874  \n",
       "4     1.120305  \n",
       "5     0.699714  \n",
       "6     0.192530  \n",
       "7     0.034421  "
      ]
     },
     "execution_count": 362,
     "metadata": {},
     "output_type": "execute_result"
    }
   ],
   "source": [
    "get_winner(df_quarters)"
   ]
  },
  {
   "cell_type": "code",
   "execution_count": 363,
   "metadata": {},
   "outputs": [],
   "source": [
    "def total_points(home,away,df_quarters):\n",
    "    valor_points_home1 = df_quarters.loc[df_quarters['Home'] == home, 'points_home'].values[0]\n",
    "    valor_points_away1 = df_quarters.loc[df_quarters['Away'] == home, 'points_away'].values[0]\n",
    "    valor_points_home2 = df_quarters.loc[df_quarters['Home'] == away, 'points_home'].values[0]\n",
    "    valor_points_away2 = df_quarters.loc[df_quarters['Away'] == away, 'points_away'].values[0]\n",
    "    total1=valor_points_away1+valor_points_home1\n",
    "    total2=valor_points_away2+valor_points_home2\n",
    "    if total1>total2:\n",
    "        return home\n",
    "    else: return away\n",
    "\n",
    "\n"
   ]
  },
  {
   "cell_type": "code",
   "execution_count": 364,
   "metadata": {},
   "outputs": [],
   "source": [
    "df_quarters['match'] = ['quarter-final {}'.format(i//2 + 1) for i in range(len(df_quarters))]\n"
   ]
  },
  {
   "cell_type": "code",
   "execution_count": 365,
   "metadata": {},
   "outputs": [
    {
     "data": {
      "text/html": [
       "<div>\n",
       "<style scoped>\n",
       "    .dataframe tbody tr th:only-of-type {\n",
       "        vertical-align: middle;\n",
       "    }\n",
       "\n",
       "    .dataframe tbody tr th {\n",
       "        vertical-align: top;\n",
       "    }\n",
       "\n",
       "    .dataframe thead th {\n",
       "        text-align: right;\n",
       "    }\n",
       "</style>\n",
       "<table border=\"1\" class=\"dataframe\">\n",
       "  <thead>\n",
       "    <tr style=\"text-align: right;\">\n",
       "      <th></th>\n",
       "      <th>Home</th>\n",
       "      <th>Away</th>\n",
       "      <th>winner</th>\n",
       "      <th>points_home</th>\n",
       "      <th>points_away</th>\n",
       "      <th>match</th>\n",
       "    </tr>\n",
       "  </thead>\n",
       "  <tbody>\n",
       "    <tr>\n",
       "      <th>0</th>\n",
       "      <td>Arsenal</td>\n",
       "      <td>Bayern Munich</td>\n",
       "      <td>Arsenal</td>\n",
       "      <td>2.800368</td>\n",
       "      <td>0.099771</td>\n",
       "      <td>quarter-final 1</td>\n",
       "    </tr>\n",
       "    <tr>\n",
       "      <th>1</th>\n",
       "      <td>Bayern Munich</td>\n",
       "      <td>Arsenal</td>\n",
       "      <td>Bayern Munich</td>\n",
       "      <td>2.390918</td>\n",
       "      <td>0.464161</td>\n",
       "      <td>quarter-final 1</td>\n",
       "    </tr>\n",
       "    <tr>\n",
       "      <th>2</th>\n",
       "      <td>Atlético Madrid</td>\n",
       "      <td>Borussia Dortmund</td>\n",
       "      <td>Atlético Madrid</td>\n",
       "      <td>2.466582</td>\n",
       "      <td>0.391686</td>\n",
       "      <td>quarter-final 2</td>\n",
       "    </tr>\n",
       "    <tr>\n",
       "      <th>3</th>\n",
       "      <td>Borussia Dortmund</td>\n",
       "      <td>Atlético Madrid</td>\n",
       "      <td>Borussia Dortmund</td>\n",
       "      <td>2.271040</td>\n",
       "      <td>0.491874</td>\n",
       "      <td>quarter-final 2</td>\n",
       "    </tr>\n",
       "    <tr>\n",
       "      <th>4</th>\n",
       "      <td>Real Madrid</td>\n",
       "      <td>Manchester City</td>\n",
       "      <td>Real Madrid</td>\n",
       "      <td>1.703619</td>\n",
       "      <td>1.120305</td>\n",
       "      <td>quarter-final 3</td>\n",
       "    </tr>\n",
       "    <tr>\n",
       "      <th>5</th>\n",
       "      <td>Manchester City</td>\n",
       "      <td>Real Madrid</td>\n",
       "      <td>Manchester City</td>\n",
       "      <td>2.157545</td>\n",
       "      <td>0.699714</td>\n",
       "      <td>quarter-final 3</td>\n",
       "    </tr>\n",
       "    <tr>\n",
       "      <th>6</th>\n",
       "      <td>Paris Saint-Germain</td>\n",
       "      <td>Barcelona</td>\n",
       "      <td>Paris Saint-Germain</td>\n",
       "      <td>2.689976</td>\n",
       "      <td>0.192530</td>\n",
       "      <td>quarter-final 4</td>\n",
       "    </tr>\n",
       "    <tr>\n",
       "      <th>7</th>\n",
       "      <td>Barcelona</td>\n",
       "      <td>Paris Saint-Germain</td>\n",
       "      <td>Barcelona</td>\n",
       "      <td>2.670891</td>\n",
       "      <td>0.034421</td>\n",
       "      <td>quarter-final 4</td>\n",
       "    </tr>\n",
       "  </tbody>\n",
       "</table>\n",
       "</div>"
      ],
      "text/plain": [
       "                  Home                 Away               winner  points_home  \\\n",
       "0              Arsenal        Bayern Munich              Arsenal     2.800368   \n",
       "1        Bayern Munich              Arsenal        Bayern Munich     2.390918   \n",
       "2      Atlético Madrid    Borussia Dortmund      Atlético Madrid     2.466582   \n",
       "3    Borussia Dortmund      Atlético Madrid    Borussia Dortmund     2.271040   \n",
       "4          Real Madrid      Manchester City          Real Madrid     1.703619   \n",
       "5      Manchester City          Real Madrid      Manchester City     2.157545   \n",
       "6  Paris Saint-Germain            Barcelona  Paris Saint-Germain     2.689976   \n",
       "7            Barcelona  Paris Saint-Germain            Barcelona     2.670891   \n",
       "\n",
       "   points_away            match  \n",
       "0     0.099771  quarter-final 1  \n",
       "1     0.464161  quarter-final 1  \n",
       "2     0.391686  quarter-final 2  \n",
       "3     0.491874  quarter-final 2  \n",
       "4     1.120305  quarter-final 3  \n",
       "5     0.699714  quarter-final 3  \n",
       "6     0.192530  quarter-final 4  \n",
       "7     0.034421  quarter-final 4  "
      ]
     },
     "execution_count": 365,
     "metadata": {},
     "output_type": "execute_result"
    }
   ],
   "source": [
    "df_quarters"
   ]
  },
  {
   "cell_type": "code",
   "execution_count": 366,
   "metadata": {},
   "outputs": [],
   "source": [
    "def update_matches(df_quarters,df_semis):\n",
    "    for index,row in df_quarters.iterrows():\n",
    "        home=df_quarters.loc[index,'Home']\n",
    "        away=df_quarters.loc[index,'Away']\n",
    "        winner=total_points(home,away,df_quarters)\n",
    "        match=df_quarters.loc[index,'match']\n",
    "        df_semis.replace({f'Winners of {match}':winner},inplace=True)\n",
    "    df_semis['winner']='?'\n",
    "    return df_semis\n",
    "    \n"
   ]
  },
  {
   "cell_type": "markdown",
   "metadata": {},
   "source": [
    "##### 4.2 SEMIFINALES"
   ]
  },
  {
   "cell_type": "code",
   "execution_count": 367,
   "metadata": {},
   "outputs": [
    {
     "data": {
      "text/html": [
       "<div>\n",
       "<style scoped>\n",
       "    .dataframe tbody tr th:only-of-type {\n",
       "        vertical-align: middle;\n",
       "    }\n",
       "\n",
       "    .dataframe tbody tr th {\n",
       "        vertical-align: top;\n",
       "    }\n",
       "\n",
       "    .dataframe thead th {\n",
       "        text-align: right;\n",
       "    }\n",
       "</style>\n",
       "<table border=\"1\" class=\"dataframe\">\n",
       "  <thead>\n",
       "    <tr style=\"text-align: right;\">\n",
       "      <th></th>\n",
       "      <th>Home</th>\n",
       "      <th>Away</th>\n",
       "      <th>winner</th>\n",
       "    </tr>\n",
       "  </thead>\n",
       "  <tbody>\n",
       "    <tr>\n",
       "      <th>8</th>\n",
       "      <td>Atlético Madrid</td>\n",
       "      <td>Barcelona</td>\n",
       "      <td>?</td>\n",
       "    </tr>\n",
       "    <tr>\n",
       "      <th>9</th>\n",
       "      <td>Barcelona</td>\n",
       "      <td>Atlético Madrid</td>\n",
       "      <td>?</td>\n",
       "    </tr>\n",
       "    <tr>\n",
       "      <th>10</th>\n",
       "      <td>Arsenal</td>\n",
       "      <td>Manchester City</td>\n",
       "      <td>?</td>\n",
       "    </tr>\n",
       "    <tr>\n",
       "      <th>11</th>\n",
       "      <td>Manchester City</td>\n",
       "      <td>Arsenal</td>\n",
       "      <td>?</td>\n",
       "    </tr>\n",
       "  </tbody>\n",
       "</table>\n",
       "</div>"
      ],
      "text/plain": [
       "               Home             Away winner\n",
       "8   Atlético Madrid        Barcelona      ?\n",
       "9         Barcelona  Atlético Madrid      ?\n",
       "10          Arsenal  Manchester City      ?\n",
       "11  Manchester City          Arsenal      ?"
      ]
     },
     "execution_count": 367,
     "metadata": {},
     "output_type": "execute_result"
    }
   ],
   "source": [
    "update_matches(df_quarters,df_semis)"
   ]
  },
  {
   "cell_type": "code",
   "execution_count": 368,
   "metadata": {},
   "outputs": [],
   "source": [
    "df_semis['match'] = ['semi-final {}'.format(i//2 + 1) for i in range(len(df_semis))]\n"
   ]
  },
  {
   "cell_type": "code",
   "execution_count": 369,
   "metadata": {},
   "outputs": [
    {
     "data": {
      "text/html": [
       "<div>\n",
       "<style scoped>\n",
       "    .dataframe tbody tr th:only-of-type {\n",
       "        vertical-align: middle;\n",
       "    }\n",
       "\n",
       "    .dataframe tbody tr th {\n",
       "        vertical-align: top;\n",
       "    }\n",
       "\n",
       "    .dataframe thead th {\n",
       "        text-align: right;\n",
       "    }\n",
       "</style>\n",
       "<table border=\"1\" class=\"dataframe\">\n",
       "  <thead>\n",
       "    <tr style=\"text-align: right;\">\n",
       "      <th></th>\n",
       "      <th>Home</th>\n",
       "      <th>Away</th>\n",
       "      <th>winner</th>\n",
       "      <th>match</th>\n",
       "      <th>points_home</th>\n",
       "      <th>points_away</th>\n",
       "    </tr>\n",
       "  </thead>\n",
       "  <tbody>\n",
       "    <tr>\n",
       "      <th>8</th>\n",
       "      <td>Atlético Madrid</td>\n",
       "      <td>Barcelona</td>\n",
       "      <td>Atlético Madrid</td>\n",
       "      <td>semi-final 1</td>\n",
       "      <td>2.788889</td>\n",
       "      <td>0.142470</td>\n",
       "    </tr>\n",
       "    <tr>\n",
       "      <th>9</th>\n",
       "      <td>Barcelona</td>\n",
       "      <td>Atlético Madrid</td>\n",
       "      <td>Barcelona</td>\n",
       "      <td>semi-final 1</td>\n",
       "      <td>2.657256</td>\n",
       "      <td>0.249614</td>\n",
       "    </tr>\n",
       "    <tr>\n",
       "      <th>10</th>\n",
       "      <td>Arsenal</td>\n",
       "      <td>Manchester City</td>\n",
       "      <td>Arsenal</td>\n",
       "      <td>semi-final 2</td>\n",
       "      <td>2.947850</td>\n",
       "      <td>0.023443</td>\n",
       "    </tr>\n",
       "    <tr>\n",
       "      <th>11</th>\n",
       "      <td>Manchester City</td>\n",
       "      <td>Arsenal</td>\n",
       "      <td>Manchester City</td>\n",
       "      <td>semi-final 2</td>\n",
       "      <td>2.669120</td>\n",
       "      <td>0.241640</td>\n",
       "    </tr>\n",
       "  </tbody>\n",
       "</table>\n",
       "</div>"
      ],
      "text/plain": [
       "               Home             Away           winner         match  \\\n",
       "8   Atlético Madrid        Barcelona  Atlético Madrid  semi-final 1   \n",
       "9         Barcelona  Atlético Madrid        Barcelona  semi-final 1   \n",
       "10          Arsenal  Manchester City          Arsenal  semi-final 2   \n",
       "11  Manchester City          Arsenal  Manchester City  semi-final 2   \n",
       "\n",
       "    points_home  points_away  \n",
       "8      2.788889     0.142470  \n",
       "9      2.657256     0.249614  \n",
       "10     2.947850     0.023443  \n",
       "11     2.669120     0.241640  "
      ]
     },
     "execution_count": 369,
     "metadata": {},
     "output_type": "execute_result"
    }
   ],
   "source": [
    "get_winner(df_semis)"
   ]
  },
  {
   "cell_type": "markdown",
   "metadata": {},
   "source": [
    "##### 4.3 FINAL"
   ]
  },
  {
   "cell_type": "code",
   "execution_count": 370,
   "metadata": {},
   "outputs": [
    {
     "data": {
      "text/html": [
       "<div>\n",
       "<style scoped>\n",
       "    .dataframe tbody tr th:only-of-type {\n",
       "        vertical-align: middle;\n",
       "    }\n",
       "\n",
       "    .dataframe tbody tr th {\n",
       "        vertical-align: top;\n",
       "    }\n",
       "\n",
       "    .dataframe thead th {\n",
       "        text-align: right;\n",
       "    }\n",
       "</style>\n",
       "<table border=\"1\" class=\"dataframe\">\n",
       "  <thead>\n",
       "    <tr style=\"text-align: right;\">\n",
       "      <th></th>\n",
       "      <th>Home</th>\n",
       "      <th>Away</th>\n",
       "      <th>winner</th>\n",
       "    </tr>\n",
       "  </thead>\n",
       "  <tbody>\n",
       "    <tr>\n",
       "      <th>12</th>\n",
       "      <td>Atlético Madrid</td>\n",
       "      <td>Arsenal</td>\n",
       "      <td>?</td>\n",
       "    </tr>\n",
       "  </tbody>\n",
       "</table>\n",
       "</div>"
      ],
      "text/plain": [
       "               Home     Away winner\n",
       "12  Atlético Madrid  Arsenal      ?"
      ]
     },
     "execution_count": 370,
     "metadata": {},
     "output_type": "execute_result"
    }
   ],
   "source": [
    "update_matches(df_semis,df_final)"
   ]
  },
  {
   "cell_type": "code",
   "execution_count": 371,
   "metadata": {},
   "outputs": [],
   "source": [
    "\n",
    "import random\n",
    "\n",
    "def predict_points_final(home, away, uncertainty=0.1, unpredictability=0.1):\n",
    "    if home in df_teams.index and away in df_teams.index:\n",
    "        # goals_scored * goals_conceded\n",
    "        lamb_home = df_teams.at[home,'GF'] * df_teams.at[away,'GC']\n",
    "        lamb_away = df_teams.at[away,'GF'] * df_teams.at[home,'GC']\n",
    "        prob_home, prob_away, prob_draw = 0, 0, 0\n",
    "        for x in range(0,11): #number of goals home team\n",
    "            for y in range(0, 11): #number of goals away team\n",
    "                p = poisson.pmf(x, lamb_home) * poisson.pmf(y, lamb_away)\n",
    "                if x == y:\n",
    "                    prob_draw += p\n",
    "                elif x > y:\n",
    "                    prob_home += p\n",
    "                else:\n",
    "                    prob_away += p\n",
    "        \n",
    "        points_home = (3 * prob_home + prob_draw) * (1 - uncertainty) * random.uniform(1 - unpredictability, 1 + unpredictability)\n",
    "        points_away = (3 * prob_away + prob_draw) * (1 - uncertainty) * random.uniform(1 - unpredictability, 1 + unpredictability)\n",
    "        return (points_home, points_away)\n",
    "    else:\n",
    "        return (0, 0)\n"
   ]
  },
  {
   "cell_type": "code",
   "execution_count": 378,
   "metadata": {},
   "outputs": [
    {
     "data": {
      "text/plain": [
       "(0.9570101815021834, 1.7449327111130646)"
      ]
     },
     "execution_count": 378,
     "metadata": {},
     "output_type": "execute_result"
    }
   ],
   "source": [
    "predict_points_final('Atlético Madrid','Arsenal')"
   ]
  },
  {
   "cell_type": "code",
   "execution_count": 379,
   "metadata": {},
   "outputs": [],
   "source": [
    "def get_winner_final(df_fixture_updated):\n",
    "    for index, row in df_fixture_updated.iterrows():\n",
    "        home, away = row['Home'], row['Away']\n",
    "        points_home, points_away = predict_points_final(home, away)\n",
    "        if points_home > points_away:\n",
    "            winner = home\n",
    "        else:\n",
    "            winner = away\n",
    "        df_fixture_updated.loc[index, 'winner'] = winner\n",
    "    return df_fixture_updated"
   ]
  },
  {
   "cell_type": "code",
   "execution_count": 380,
   "metadata": {},
   "outputs": [
    {
     "data": {
      "text/html": [
       "<div>\n",
       "<style scoped>\n",
       "    .dataframe tbody tr th:only-of-type {\n",
       "        vertical-align: middle;\n",
       "    }\n",
       "\n",
       "    .dataframe tbody tr th {\n",
       "        vertical-align: top;\n",
       "    }\n",
       "\n",
       "    .dataframe thead th {\n",
       "        text-align: right;\n",
       "    }\n",
       "</style>\n",
       "<table border=\"1\" class=\"dataframe\">\n",
       "  <thead>\n",
       "    <tr style=\"text-align: right;\">\n",
       "      <th></th>\n",
       "      <th>Home</th>\n",
       "      <th>Away</th>\n",
       "      <th>winner</th>\n",
       "    </tr>\n",
       "  </thead>\n",
       "  <tbody>\n",
       "    <tr>\n",
       "      <th>12</th>\n",
       "      <td>Atlético Madrid</td>\n",
       "      <td>Arsenal</td>\n",
       "      <td>Arsenal</td>\n",
       "    </tr>\n",
       "  </tbody>\n",
       "</table>\n",
       "</div>"
      ],
      "text/plain": [
       "               Home     Away   winner\n",
       "12  Atlético Madrid  Arsenal  Arsenal"
      ]
     },
     "execution_count": 380,
     "metadata": {},
     "output_type": "execute_result"
    }
   ],
   "source": [
    "get_winner_final(df_final)"
   ]
  }
 ],
 "metadata": {
  "kernelspec": {
   "display_name": "Python 3",
   "language": "python",
   "name": "python3"
  },
  "language_info": {
   "codemirror_mode": {
    "name": "ipython",
    "version": 3
   },
   "file_extension": ".py",
   "mimetype": "text/x-python",
   "name": "python",
   "nbconvert_exporter": "python",
   "pygments_lexer": "ipython3",
   "version": "3.12.1"
  }
 },
 "nbformat": 4,
 "nbformat_minor": 2
}
